{
 "cells": [
  {
   "cell_type": "markdown",
   "id": "1204320b",
   "metadata": {},
   "source": []
  },
  {
   "cell_type": "code",
   "execution_count": 1,
   "id": "b5cfe967",
   "metadata": {},
   "outputs": [],
   "source": [
    "import numpy as np\n",
    "import pandas as pd\n",
    "from sklearn.linear_model import LinearRegression, HuberRegressor, QuantileRegressor\n",
    "from estimator import fit_regression"
   ]
  },
  {
   "cell_type": "code",
   "execution_count": 3,
   "id": "7af6bda6",
   "metadata": {},
   "outputs": [
    {
     "name": "stdout",
     "output_type": "stream",
     "text": [
      "          Y        X1        X2        X3        X4        X5        X6  \\\n",
      "0  2.423628  0.144044  1.454274  0.761038  0.121675  0.443863  0.333674   \n",
      "1  2.792001 -2.552990  0.653619  0.864436 -0.742165  2.269755 -1.454366   \n",
      "2 -4.621236  0.154947  0.378163 -0.887786 -1.980796 -0.347912  0.156349   \n",
      "3  0.094564 -1.048553 -1.420018 -1.706270  1.950775 -0.509652 -0.438074   \n",
      "4 -5.898248 -0.895467  0.386902 -0.510805 -1.180632 -0.028182  0.428332   \n",
      "\n",
      "         X7        X8        X9       X10  \n",
      "0  1.494079 -0.205158  0.313068 -0.854096  \n",
      "1  0.045759 -0.187184  1.532779  1.469359  \n",
      "2  1.230291  1.202380 -0.387327 -0.302303  \n",
      "3 -1.252795  0.777490 -1.613898 -0.212740  \n",
      "4  0.066517  0.302472 -0.634322 -0.362741  \n",
      "True coefficients: [ 1.76405235  0.40015721  0.97873798  2.2408932   1.86755799 -0.97727788\n",
      "  0.95008842 -0.15135721 -0.10321885  0.4105985 ]\n"
     ]
    }
   ],
   "source": [
    "def generate_data(n=100, p=10, seed=0):\n",
    "    np.random.seed(seed)\n",
    "    \n",
    "    # True coefficients\n",
    "    beta = np.random.randn(p)\n",
    "    # Design matrix X (n x p)\n",
    "    X = np.random.randn(n, p)\n",
    "    # Gaussian noise\n",
    "    eps = np.random.randn(n)\n",
    "    # Response\n",
    "    y = X @ beta + eps\n",
    "    \n",
    "    # Combine into DataFrame: first column Y, rest X1..Xp\n",
    "    columns = ['Y'] + [f'X{i+1}' for i in range(p)]\n",
    "    df = pd.DataFrame(np.column_stack([y, X]), columns=columns)\n",
    "    return df, beta\n",
    "\n",
    "# Example\n",
    "df, true_beta = generate_data()\n",
    "print(df.head())\n",
    "print(\"True coefficients:\", true_beta)\n"
   ]
  },
  {
   "cell_type": "code",
   "execution_count": 8,
   "id": "0ad55f0b",
   "metadata": {},
   "outputs": [],
   "source": [
    "ols = fit_regression(df, method=\"ols\")"
   ]
  },
  {
   "cell_type": "code",
   "execution_count": 9,
   "id": "bf034acc",
   "metadata": {},
   "outputs": [
    {
     "data": {
      "text/plain": [
       "X1     1.792130\n",
       "X2     0.273173\n",
       "X3     0.842678\n",
       "X4     2.311503\n",
       "X5     1.828215\n",
       "X6    -0.998252\n",
       "X7     0.786097\n",
       "X8    -0.197357\n",
       "X9    -0.111895\n",
       "X10    0.451030\n",
       "dtype: float64"
      ]
     },
     "execution_count": 9,
     "metadata": {},
     "output_type": "execute_result"
    }
   ],
   "source": [
    "ols['coef']"
   ]
  },
  {
   "cell_type": "code",
   "execution_count": 11,
   "id": "de3e984b",
   "metadata": {},
   "outputs": [
    {
     "data": {
      "text/plain": [
       "-0.006365926807098243"
      ]
     },
     "execution_count": 11,
     "metadata": {},
     "output_type": "execute_result"
    }
   ],
   "source": [
    "ols['intercept']"
   ]
  }
 ],
 "metadata": {
  "kernelspec": {
   "display_name": "Python 3",
   "language": "python",
   "name": "python3"
  },
  "language_info": {
   "codemirror_mode": {
    "name": "ipython",
    "version": 3
   },
   "file_extension": ".py",
   "mimetype": "text/x-python",
   "name": "python",
   "nbconvert_exporter": "python",
   "pygments_lexer": "ipython3",
   "version": "3.9.6"
  }
 },
 "nbformat": 4,
 "nbformat_minor": 5
}
